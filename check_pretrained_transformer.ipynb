{
 "cells": [
  {
   "cell_type": "code",
   "execution_count": 56,
   "id": "initial_id",
   "metadata": {
    "collapsed": true,
    "ExecuteTime": {
     "end_time": "2024-02-28T01:03:52.271296Z",
     "start_time": "2024-02-28T01:03:52.260431Z"
    }
   },
   "outputs": [],
   "source": [
    "import pandas as pd \n",
    "import numpy as np \n",
    "import matplotlib.pyplot as plt \n",
    "from transformer import RT\n",
    "import seaborn as sns \n",
    "\n",
    "from checkpointer import Checkpointer\n"
   ]
  },
  {
   "cell_type": "code",
   "outputs": [],
   "source": [
    "\n",
    "from models.mpnn import AlignedMPNN\n",
    "import jax \n",
    "import jax.numpy as jnp\n",
    "import haiku as hk\n",
    "from pathlib import Path\n",
    "MODEL_DIR = Path(Path.cwd(), \"trained_models\")\n",
    "MODEL_DIR.mkdir(exist_ok=True, parents=True)"
   ],
   "metadata": {
    "collapsed": false,
    "ExecuteTime": {
     "end_time": "2024-02-28T01:03:53.291269Z",
     "start_time": "2024-02-28T01:03:53.285787Z"
    }
   },
   "id": "34921eef36b96fb5",
   "execution_count": 57
  },
  {
   "cell_type": "code",
   "outputs": [],
   "source": [
    "import os\n",
    "from enum import StrEnum\n",
    "\n",
    "import numpy as np\n",
    "\n",
    "\n",
    "class DatasetPath(StrEnum):\n",
    "    TRAIN_PATH = \"dataset/train\"\n",
    "    VALIDATION_PATH = \"dataset/validation\"\n",
    "    TEST_PATH = \"dataset/test\"\n",
    "\n",
    "\n",
    "def load_batch(batch_path: str):\n",
    "    input_node_features = np.load(\n",
    "        os.path.join(batch_path, \"input_node_features.npy\")\n",
    "    )\n",
    "    input_edge_features = np.load(\n",
    "        os.path.join(batch_path, \"input_edge_features.npy\")\n",
    "    )\n",
    "    input_graph_features = np.load(\n",
    "        os.path.join(batch_path, \"input_graph_features.npy\")\n",
    "    )\n",
    "    input_adjacency_matrix = np.load(\n",
    "        os.path.join(batch_path, \"input_adjacency_matrix.npy\")\n",
    "    )\n",
    "    input_hidden_node_features = np.load(\n",
    "        os.path.join(batch_path, \"input_hidden_node_features.npy\")\n",
    "    )\n",
    "    input_hidden_edge_features = np.load(\n",
    "        os.path.join(batch_path, \"input_hidden_edge_features.npy\")\n",
    "    )\n",
    "    \n",
    "    node_features_all_layers = []\n",
    "\n",
    "    for i in range(3):\n",
    "        node_features = np.load(\n",
    "            os.path.join(batch_path, f\"out_node_features_{i}.npy\")\n",
    "        )\n",
    "        node_features_all_layers.append(node_features)\n",
    "\n",
    "    out_edge_features = np.load(\n",
    "        os.path.join(batch_path, \"out_edge_features.npy\")\n",
    "    )\n",
    "\n",
    "    return (\n",
    "        (\n",
    "            input_node_features,\n",
    "            input_edge_features,\n",
    "            input_graph_features,\n",
    "            input_adjacency_matrix,\n",
    "            input_hidden_node_features,\n",
    "            input_hidden_edge_features,\n",
    "        ),\n",
    "        node_features_all_layers,\n",
    "        out_edge_features,\n",
    "    )\n",
    "\n",
    "\n",
    "def dataloader(dataset_path: DatasetPath):\n",
    "    batch_dirs = [\n",
    "        os.path.join(dataset_path, d)\n",
    "        for d in sorted(os.listdir(dataset_path))\n",
    "        if os.path.isdir(os.path.join(dataset_path, d))\n",
    "    ]\n",
    "    for batch_dir in batch_dirs:\n",
    "        yield load_batch(batch_dir)\n"
   ],
   "metadata": {
    "collapsed": false,
    "ExecuteTime": {
     "end_time": "2024-02-28T01:09:09.586693Z",
     "start_time": "2024-02-28T01:09:09.577362Z"
    }
   },
   "id": "990fadac594f1858",
   "execution_count": 75
  },
  {
   "cell_type": "code",
   "outputs": [],
   "source": [
    "sns.set(style='whitegrid')\n",
    "sns.set_context('notebook')"
   ],
   "metadata": {
    "collapsed": false,
    "ExecuteTime": {
     "end_time": "2024-02-28T01:09:10.834491Z",
     "start_time": "2024-02-28T01:09:10.831977Z"
    }
   },
   "id": "cb1676ea0f2e775f",
   "execution_count": 76
  },
  {
   "cell_type": "code",
   "outputs": [],
   "source": [
    "train_dataloader = dataloader(DatasetPath.TRAIN_PATH)\n",
    "(\n",
    "    (\n",
    "        input_node_features,\n",
    "        input_edge_features,\n",
    "        input_graph_features,\n",
    "        input_adjacency_matrix,\n",
    "        input_hidden_node_features,\n",
    "        input_hidden_edge_features,\n",
    "    ),\n",
    "    transformer_node_features_all_layers,\n",
    "    transformer_edge_embedding,\n",
    ") = next(train_dataloader)"
   ],
   "metadata": {
    "collapsed": false,
    "ExecuteTime": {
     "end_time": "2024-02-28T01:09:12.937963Z",
     "start_time": "2024-02-28T01:09:12.902430Z"
    }
   },
   "id": "d5a31df5ad1a709d",
   "execution_count": 77
  },
  {
   "cell_type": "code",
   "outputs": [
    {
     "data": {
      "text/plain": "(4, 16, 16, 192)"
     },
     "execution_count": 62,
     "metadata": {},
     "output_type": "execute_result"
    }
   ],
   "source": [],
   "metadata": {
    "collapsed": false,
    "ExecuteTime": {
     "end_time": "2024-02-28T01:04:37.359660Z",
     "start_time": "2024-02-28T01:04:37.352571Z"
    }
   },
   "id": "1fa5cfb11b02cc05",
   "execution_count": 62
  },
  {
   "cell_type": "code",
   "outputs": [],
   "source": [
    "def model_fn(node_fts, edge_fts, graph_fts, adj_mat, hidden, e_hidden):\n",
    "    model = RT(\n",
    "        nb_layers=3,\n",
    "        nb_heads=12,\n",
    "        vec_size=192,\n",
    "        node_hid_size=32,\n",
    "        edge_hid_size_1=16,\n",
    "        edge_hid_size_2=8,\n",
    "        graph_vec=\"att\",\n",
    "        disable_edge_updates=True,\n",
    "        save_emb_sub_dir=\"\",\n",
    "        save_embeddings=\"\",\n",
    "        name=\"rt\"\n",
    "    )\n",
    "    return model(node_fts, edge_fts, graph_fts, adj_mat, hidden, e_hidden=e_hidden)\n",
    "\n",
    "\n",
    "model = hk.without_apply_rng(hk.transform(model_fn))\n",
    "\n",
    "parameters = model.init(\n",
    "    jax.random.PRNGKey(42),\n",
    "    node_fts=input_node_features,\n",
    "    edge_fts=input_edge_features,\n",
    "    graph_fts=input_graph_features,\n",
    "    adj_mat=input_adjacency_matrix,\n",
    "    hidden=input_hidden_node_features,\n",
    "    e_hidden=input_hidden_edge_features,\n",
    ")\n"
   ],
   "metadata": {
    "collapsed": false,
    "ExecuteTime": {
     "end_time": "2024-02-28T01:23:31.193832Z",
     "start_time": "2024-02-28T01:23:31.090260Z"
    }
   },
   "id": "ad0888fd7e42c2bb",
   "execution_count": 150
  },
  {
   "cell_type": "code",
   "outputs": [
    {
     "data": {
      "text/plain": "dict_keys(['rt/linear', 'rt/linear_1', 'rt/rt_layer0/rt_layer0/rt_attention_layer/linear_3', 'rt/rt_layer0/rt_layer0/rt_attention_layer/linear_4', 'rt/rt_layer0/rt_layer0/rt_attention_layer/linear_5', 'rt/rt_layer0/rt_layer0/rt_attention_layer/linear', 'rt/rt_layer0/rt_layer0/rt_attention_layer/linear_1', 'rt/rt_layer0/rt_layer0/rt_attention_layer/linear_2', 'rt/rt_layer0/rt_layer0/rt_attention_layer/linear_6', 'rt/rt_layer0/rt_layer0/rt_attention_layer/linear_7', 'rt/rt_layer0/rt_layer0/rt_attention_layer/linear_8', 'rt/rt_layer0/rt_layer0/linear', 'rt/rt_layer0/rt_layer0/layer_norm', 'rt/rt_layer0/rt_layer0/linear_1', 'rt/rt_layer0/rt_layer0/linear_2', 'rt/rt_layer0/rt_layer0/layer_norm_1', 'rt/rt_layer1/rt_layer1/rt_attention_layer/linear_3', 'rt/rt_layer1/rt_layer1/rt_attention_layer/linear_4', 'rt/rt_layer1/rt_layer1/rt_attention_layer/linear_5', 'rt/rt_layer1/rt_layer1/rt_attention_layer/linear', 'rt/rt_layer1/rt_layer1/rt_attention_layer/linear_1', 'rt/rt_layer1/rt_layer1/rt_attention_layer/linear_2', 'rt/rt_layer1/rt_layer1/rt_attention_layer/linear_6', 'rt/rt_layer1/rt_layer1/rt_attention_layer/linear_7', 'rt/rt_layer1/rt_layer1/rt_attention_layer/linear_8', 'rt/rt_layer1/rt_layer1/linear', 'rt/rt_layer1/rt_layer1/layer_norm', 'rt/rt_layer1/rt_layer1/linear_1', 'rt/rt_layer1/rt_layer1/linear_2', 'rt/rt_layer1/rt_layer1/layer_norm_1', 'rt/rt_layer2/rt_layer2/rt_attention_layer/linear_3', 'rt/rt_layer2/rt_layer2/rt_attention_layer/linear_4', 'rt/rt_layer2/rt_layer2/rt_attention_layer/linear_5', 'rt/rt_layer2/rt_layer2/rt_attention_layer/linear', 'rt/rt_layer2/rt_layer2/rt_attention_layer/linear_1', 'rt/rt_layer2/rt_layer2/rt_attention_layer/linear_2', 'rt/rt_layer2/rt_layer2/rt_attention_layer/linear_6', 'rt/rt_layer2/rt_layer2/rt_attention_layer/linear_7', 'rt/rt_layer2/rt_layer2/rt_attention_layer/linear_8', 'rt/rt_layer2/rt_layer2/linear', 'rt/rt_layer2/rt_layer2/layer_norm', 'rt/rt_layer2/rt_layer2/linear_1', 'rt/rt_layer2/rt_layer2/linear_2', 'rt/rt_layer2/rt_layer2/layer_norm_1'])"
     },
     "execution_count": 151,
     "metadata": {},
     "output_type": "execute_result"
    }
   ],
   "source": [
    "parameters.keys()"
   ],
   "metadata": {
    "collapsed": false,
    "ExecuteTime": {
     "end_time": "2024-02-28T01:23:32.239970Z",
     "start_time": "2024-02-28T01:23:32.212551Z"
    }
   },
   "id": "6a5f2e50076eb4a7",
   "execution_count": 151
  },
  {
   "cell_type": "code",
   "outputs": [],
   "source": [
    "ckpt = Checkpointer(f\"{MODEL_DIR}/rt_jarvis_march.pkl\")#aligned_mpnn_all_layers.pkl\")\n",
    "loaded_parameters = ckpt.load()"
   ],
   "metadata": {
    "collapsed": false,
    "ExecuteTime": {
     "end_time": "2024-02-28T01:23:32.504865Z",
     "start_time": "2024-02-28T01:23:32.483571Z"
    }
   },
   "id": "3ad023761bf65810",
   "execution_count": 152
  },
  {
   "cell_type": "code",
   "outputs": [],
   "source": [
    "def _filter_processor(params: hk.Params) -> hk.Params:\n",
    "    return hk.data_structures.filter(\n",
    "        lambda module_name, n, v: \"rt\" in module_name, params\n",
    "    )"
   ],
   "metadata": {
    "collapsed": false,
    "ExecuteTime": {
     "end_time": "2024-02-28T01:23:32.747579Z",
     "start_time": "2024-02-28T01:23:32.740304Z"
    }
   },
   "id": "84dc27298a9df09f",
   "execution_count": 153
  },
  {
   "cell_type": "code",
   "outputs": [],
   "source": [
    "loaded_parameters[\"params\"] = _filter_processor(loaded_parameters[\"params\"])"
   ],
   "metadata": {
    "collapsed": false,
    "ExecuteTime": {
     "end_time": "2024-02-28T01:23:32.997180Z",
     "start_time": "2024-02-28T01:23:32.985708Z"
    }
   },
   "id": "6f8e554a6683e1e6",
   "execution_count": 154
  },
  {
   "cell_type": "code",
   "outputs": [
    {
     "data": {
      "text/plain": "dict_keys(['opt_state', 'params'])"
     },
     "execution_count": 155,
     "metadata": {},
     "output_type": "execute_result"
    }
   ],
   "source": [
    "loaded_parameters.keys()"
   ],
   "metadata": {
    "collapsed": false,
    "ExecuteTime": {
     "end_time": "2024-02-28T01:23:33.243959Z",
     "start_time": "2024-02-28T01:23:33.235632Z"
    }
   },
   "id": "fbddac812f7df9e1",
   "execution_count": 155
  },
  {
   "cell_type": "code",
   "outputs": [],
   "source": [
    "loaded_parameters[\"params\"] = {\n",
    "    f\"{k[4:]}\": v for k, v in loaded_parameters[\"params\"].items()\n",
    "}"
   ],
   "metadata": {
    "collapsed": false,
    "ExecuteTime": {
     "end_time": "2024-02-28T01:23:33.574724Z",
     "start_time": "2024-02-28T01:23:33.561372Z"
    }
   },
   "id": "b22c99e8f67f0450",
   "execution_count": 156
  },
  {
   "cell_type": "code",
   "outputs": [
    {
     "data": {
      "text/plain": "dict_keys(['rt/linear', 'rt/linear_1', 'rt/rt_layer0/rt_layer0/layer_norm', 'rt/rt_layer0/rt_layer0/layer_norm_1', 'rt/rt_layer0/rt_layer0/linear', 'rt/rt_layer0/rt_layer0/linear_1', 'rt/rt_layer0/rt_layer0/linear_2', 'rt/rt_layer0/rt_layer0/rt_attention_layer/linear', 'rt/rt_layer0/rt_layer0/rt_attention_layer/linear_1', 'rt/rt_layer0/rt_layer0/rt_attention_layer/linear_2', 'rt/rt_layer0/rt_layer0/rt_attention_layer/linear_3', 'rt/rt_layer0/rt_layer0/rt_attention_layer/linear_4', 'rt/rt_layer0/rt_layer0/rt_attention_layer/linear_5', 'rt/rt_layer0/rt_layer0/rt_attention_layer/linear_6', 'rt/rt_layer0/rt_layer0/rt_attention_layer/linear_7', 'rt/rt_layer0/rt_layer0/rt_attention_layer/linear_8', 'rt/rt_layer1/rt_layer1/layer_norm', 'rt/rt_layer1/rt_layer1/layer_norm_1', 'rt/rt_layer1/rt_layer1/linear', 'rt/rt_layer1/rt_layer1/linear_1', 'rt/rt_layer1/rt_layer1/linear_2', 'rt/rt_layer1/rt_layer1/rt_attention_layer/linear', 'rt/rt_layer1/rt_layer1/rt_attention_layer/linear_1', 'rt/rt_layer1/rt_layer1/rt_attention_layer/linear_2', 'rt/rt_layer1/rt_layer1/rt_attention_layer/linear_3', 'rt/rt_layer1/rt_layer1/rt_attention_layer/linear_4', 'rt/rt_layer1/rt_layer1/rt_attention_layer/linear_5', 'rt/rt_layer1/rt_layer1/rt_attention_layer/linear_6', 'rt/rt_layer1/rt_layer1/rt_attention_layer/linear_7', 'rt/rt_layer1/rt_layer1/rt_attention_layer/linear_8', 'rt/rt_layer2/rt_layer2/layer_norm', 'rt/rt_layer2/rt_layer2/layer_norm_1', 'rt/rt_layer2/rt_layer2/linear', 'rt/rt_layer2/rt_layer2/linear_1', 'rt/rt_layer2/rt_layer2/linear_2', 'rt/rt_layer2/rt_layer2/rt_attention_layer/linear', 'rt/rt_layer2/rt_layer2/rt_attention_layer/linear_1', 'rt/rt_layer2/rt_layer2/rt_attention_layer/linear_2', 'rt/rt_layer2/rt_layer2/rt_attention_layer/linear_3', 'rt/rt_layer2/rt_layer2/rt_attention_layer/linear_4', 'rt/rt_layer2/rt_layer2/rt_attention_layer/linear_5', 'rt/rt_layer2/rt_layer2/rt_attention_layer/linear_6', 'rt/rt_layer2/rt_layer2/rt_attention_layer/linear_7', 'rt/rt_layer2/rt_layer2/rt_attention_layer/linear_8'])"
     },
     "execution_count": 157,
     "metadata": {},
     "output_type": "execute_result"
    }
   ],
   "source": [
    "loaded_parameters[\"params\"].keys()"
   ],
   "metadata": {
    "collapsed": false,
    "ExecuteTime": {
     "end_time": "2024-02-28T01:23:33.945370Z",
     "start_time": "2024-02-28T01:23:33.938498Z"
    }
   },
   "id": "8ca6f8c81b56a743",
   "execution_count": 157
  },
  {
   "cell_type": "code",
   "outputs": [
    {
     "data": {
      "text/plain": "True"
     },
     "execution_count": 158,
     "metadata": {},
     "output_type": "execute_result"
    }
   ],
   "source": [
    "parameters.keys() == loaded_parameters[\"params\"].keys()"
   ],
   "metadata": {
    "collapsed": false,
    "ExecuteTime": {
     "end_time": "2024-02-28T01:23:34.312524Z",
     "start_time": "2024-02-28T01:23:34.304216Z"
    }
   },
   "id": "48361461c5cff32f",
   "execution_count": 158
  },
  {
   "cell_type": "code",
   "outputs": [],
   "source": [
    "import optax\n",
    "\n",
    "(\n",
    "    (\n",
    "        input_node_features,\n",
    "        input_edge_features,\n",
    "        input_graph_features,\n",
    "        input_adjacency_matrix,\n",
    "        input_hidden_node_features,\n",
    "        input_hidden_edge_features,\n",
    "    ),\n",
    "    transformer_node_features_all_layers,\n",
    "    transformer_edge_embedding,\n",
    ") = next(train_dataloader)\n",
    "\n",
    "optimizer = optax.adam(0.001)\n",
    "optimizer_state = optimizer.init(loaded_parameters)\n",
    "\n",
    "out_transformer_node_features, out_transformer_edge_embedding, _ = model.apply(\n",
    "    loaded_parameters[\"params\"],\n",
    "    jax.random.PRNGKey(42),\n",
    "    input_node_features,\n",
    "    input_edge_features,\n",
    "    input_graph_features,\n",
    "    input_adjacency_matrix,\n",
    "    input_hidden_node_features,\n",
    "    input_hidden_edge_features,\n",
    ")\n",
    "\n",
    "\n",
    "    \n",
    "    "
   ],
   "metadata": {
    "collapsed": false,
    "ExecuteTime": {
     "end_time": "2024-02-28T01:31:18.645194Z",
     "start_time": "2024-02-28T01:31:18.559608Z"
    }
   },
   "id": "be819d38c066ee80",
   "execution_count": 214
  },
  {
   "cell_type": "code",
   "outputs": [
    {
     "name": "stdout",
     "output_type": "stream",
     "text": [
      "True\n",
      "True\n",
      "True\n"
     ]
    }
   ],
   "source": [
    "print(not jnp.array_equal(input_node_features, prev_node_features))\n",
    "\n",
    "print(jnp.array_equal(out_transformer_node_features, transformer_node_features_all_layers[-1]))\n",
    "print(jnp.array_equal(out_transformer_edge_embedding, transformer_edge_embedding))\n",
    "prev_node_features = input_node_features"
   ],
   "metadata": {
    "collapsed": false,
    "ExecuteTime": {
     "end_time": "2024-02-28T01:31:18.955033Z",
     "start_time": "2024-02-28T01:31:18.949176Z"
    }
   },
   "id": "f5c44c4623d14713",
   "execution_count": 215
  },
  {
   "cell_type": "code",
   "outputs": [
    {
     "data": {
      "text/plain": "array([[[-2.7629688 ,  0.3663008 ,  1.3824675 , ..., -3.969361  ,\n         -2.6140122 , -1.1244776 ],\n        [ 1.1017193 , -0.45300224,  0.06967385, ..., -0.33809122,\n         -1.7713001 , -0.27791956],\n        [-0.85767794,  0.89120144, -0.8950694 , ..., -0.30672598,\n         -1.1762357 ,  1.192628  ],\n        ...,\n        [ 0.0547842 ,  0.0309753 ,  0.95297354, ..., -0.987455  ,\n          0.9850799 , -0.6780912 ],\n        [-0.7856734 ,  0.23537533,  1.1660761 , ..., -0.66634315,\n          3.2128007 , -0.82988054],\n        [-0.04846592, -0.6029063 ,  2.167494  , ..., -0.4702959 ,\n          4.8446207 , -2.1364338 ]],\n\n       [[ 0.26297855, -2.515852  ,  4.258234  , ..., -3.3750892 ,\n          0.773173  , -5.109954  ],\n        [-2.6042683 ,  2.3243716 , -2.2892258 , ..., -0.354484  ,\n         -2.0560188 ,  3.0930686 ],\n        [-1.854869  ,  1.1578159 , -0.78675157, ...,  0.14333628,\n          1.2153314 ,  1.1349628 ],\n        ...,\n        [-0.9993882 ,  1.4985843 , -0.76536715, ..., -1.6327184 ,\n         -2.5749178 ,  1.6406012 ],\n        [ 1.2839227 , -0.5280975 ,  1.2660788 , ..., -1.4017478 ,\n         -0.67179257, -1.1319115 ],\n        [-1.6880817 ,  1.6866522 , -0.5158081 , ..., -1.480436  ,\n         -0.72788155,  1.4838136 ]],\n\n       [[-4.4603157 ,  1.2791092 ,  0.8573596 , ..., -3.6372433 ,\n         -0.8999554 , -0.30148923],\n        [ 0.97651523, -1.200879  ,  1.2910227 , ...,  0.45712453,\n          2.5407884 , -1.8532239 ],\n        [-0.66886055,  0.08711817,  0.24927272, ...,  0.3205252 ,\n          2.240244  , -0.30882248],\n        ...,\n        [ 2.110634  , -0.8942575 ,  1.3101856 , ..., -1.5602497 ,\n         -2.0171273 , -1.3129227 ],\n        [-1.0096443 ,  0.671136  ,  0.60940254, ..., -0.92062217,\n          1.8200227 , -0.08849682],\n        [-0.3915403 ,  0.07924678,  1.2921277 , ..., -0.8736588 ,\n          2.635901  , -0.9713687 ]],\n\n       [[-0.37547094, -1.2058349 ,  2.5665224 , ..., -4.164074  ,\n         -3.5454013 , -2.8604226 ],\n        [ 0.8019408 , -1.0201889 ,  1.1028366 , ...,  0.4092146 ,\n          2.2713785 , -1.5943701 ],\n        [ 0.72051847, -1.1110287 ,  1.3761595 , ...,  0.4750135 ,\n          3.152612  , -1.8874991 ],\n        ...,\n        [-3.3243117 ,  2.48223   , -1.0724407 , ..., -0.92569315,\n          1.1420703 ,  2.2327235 ],\n        [ 3.3491886 , -2.60122   ,  3.3926876 , ..., -0.8959326 ,\n          2.1842713 , -4.0647993 ],\n        [ 3.2148893 , -2.337865  ,  3.1461225 , ..., -1.127766  ,\n          1.4463149 , -3.6785393 ]]], dtype=float32)"
     },
     "execution_count": 204,
     "metadata": {},
     "output_type": "execute_result"
    }
   ],
   "source": [
    "input_node_features"
   ],
   "metadata": {
    "collapsed": false,
    "ExecuteTime": {
     "end_time": "2024-02-28T01:29:37.465974Z",
     "start_time": "2024-02-28T01:29:37.462539Z"
    }
   },
   "id": "924ec38767dbe4a5",
   "execution_count": 204
  },
  {
   "cell_type": "code",
   "outputs": [],
   "source": [],
   "metadata": {
    "collapsed": false
   },
   "id": "c372dfe632c5b0ba"
  }
 ],
 "metadata": {
  "kernelspec": {
   "display_name": "Python 3",
   "language": "python",
   "name": "python3"
  },
  "language_info": {
   "codemirror_mode": {
    "name": "ipython",
    "version": 2
   },
   "file_extension": ".py",
   "mimetype": "text/x-python",
   "name": "python",
   "nbconvert_exporter": "python",
   "pygments_lexer": "ipython2",
   "version": "2.7.6"
  }
 },
 "nbformat": 4,
 "nbformat_minor": 5
}
